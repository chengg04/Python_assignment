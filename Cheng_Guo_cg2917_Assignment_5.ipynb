{
 "cells": [
  {
   "cell_type": "code",
   "execution_count": 92,
   "metadata": {},
   "outputs": [],
   "source": [
    "import urllib.request as ur\n",
    "from bs4 import BeautifulSoup\n",
    "import re\n",
    "\n",
    "root_url=\"http://www.google.com/finance\"\n",
    "soup=BeautifulSoup(ur.urlopen(root_url,timeout=5))\n",
    "\n",
    "tag_td=soup.find_all('td')\n",
    "pattern_name='catid=TRBC.+?>(.*?)</a>'\n",
    "regex_name=re.compile(patftern_name)\n",
    "name=regex_name.findall(str(tag_td))\n",
    "pattern_number='<span class=\"ch.\">(.+?)%</span>'\n",
    "regex_number=re.compile(pattern_number)\n",
    "number=regex_number.findall(str(tag_td))\n",
    "number_abs=list()\n",
    "for i in range(len(number)):\n",
    "    number_abs.append(abs(float(number[i])))\n",
    "max_index=number_abs.index(max(number_abs))\n",
    "max_name=name[max_index]\n",
    "max_number=number[max_index]\n",
    "pattern_url='(catid=TRBC.+?)\">'\n",
    "regex_url=re.compile(pattern_url)\n",
    "url=regex_url.findall(str(tag_td))\n",
    "url_max=url[max_index]\n",
    "url2=\"http://www.google.com/finance?\"+url_max    \n",
    "soup2=BeautifulSoup(ur.urlopen(url2,timeout=5))\n",
    "\n",
    "td_tag2=soup2.find_all('td')\n",
    "pattern_name2='q=.+?>(.+?)</a>'\n",
    "regex_name2=re.compile(pattern_name2)\n",
    "name2=regex_name2.findall(str(td_tag2))\n",
    "pattern_number2='<span class=\"ch.\">\\((.+?)%.</span>'\n",
    "regex_number2=re.compile(pattern_number2)\n",
    "number2=regex_number2.findall(str(td_tag2))\n",
    "number2f=list()\n",
    "for i in range(len(number2)):\n",
    "    number2f.append(float(number2[i]))\n",
    "\n",
    "max_index=number2f.index(max(number2f))\n",
    "max_name2=name2[2*max_index]\n",
    "max_number2=number2[max_index]\n",
    "min_index=number2f.index(min(number2f))\n",
    "min_name2=name2[2*min_index]\n",
    "min_number2=number2[min_index]\n",
    "\n",
    "print('The sector that has moved the most is '+max_name+' '+max_number+'%. '+max_name2,'gained the most',max_number2+'% while',min_name2+', the biggerst loser, lost',min_number2+'%.')"
   ]
  },
  {
   "cell_type": "code",
   "execution_count": null,
   "metadata": {},
   "outputs": [],
   "source": [
    ""
   ]
  }
 ],
 "metadata": {
  "kernelspec": {
   "display_name": "Python 3",
   "language": "python",
   "name": "python3"
  },
  "language_info": {
   "codemirror_mode": {
    "name": "ipython",
    "version": 3.0
   },
   "file_extension": ".py",
   "mimetype": "text/x-python",
   "name": "python",
   "nbconvert_exporter": "python",
   "pygments_lexer": "ipython3",
   "version": "3.4.3"
  }
 },
 "nbformat": 4,
 "nbformat_minor": 0
}