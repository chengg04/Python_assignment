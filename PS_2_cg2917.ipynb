{
 "cells": [
  {
   "cell_type": "code",
   "execution_count": 9,
   "metadata": {
    "collapsed": false
   },
   "outputs": [
    {
     "name": "stdout",
     "output_type": "stream",
     "text": [
      "Please enter the name of the currency: CNY\n",
      "Please enter the amount in CNY: 10\n",
      "Please enter the exchange rate (1 CNY to USD): 6.37\n",
      "The equivalent USD is:  63.7\n"
     ]
    }
   ],
   "source": [
    "#Problem 1: The foreign currency to USD converter\n",
    "name=input('Please enter the name of the currency: ')\n",
    "amount=input('Please enter the amount in '+name+': ')\n",
    "rate=input('Please enter the exchange rate (1 '+name+' to USD): ')\n",
    "total=float(amount)*float(rate)\n",
    "print('The equivalent USD is: ',total)"
   ]
  },
  {
   "cell_type": "code",
   "execution_count": 6,
   "metadata": {
    "collapsed": false
   },
   "outputs": [
    {
     "name": "stdout",
     "output_type": "stream",
     "text": [
      "Please enter the stock ticker: C.N\n",
      "C is traded on N\n"
     ]
    }
   ],
   "source": [
    "#Problem 2: Stock ticker and exchange code\n",
    "ticker=input('Please enter the stock ticker: ')\n",
    "head=ticker[0:ticker.find('.')]\n",
    "tail=ticker[ticker.find('.')+1:]\n",
    "print(head,'is traded on',tail)"
   ]
  },
  {
   "cell_type": "code",
   "execution_count": 9,
   "metadata": {
    "collapsed": false
   },
   "outputs": [
    {
     "name": "stdout",
     "output_type": "stream",
     "text": [
      "Please enter a name in the last name, first name format: Guo, Cheng\n",
      "Welcome, Cheng Guo! Your first name is 5 letters long.\n"
     ]
    }
   ],
   "source": [
    "#Problem 3: Welcome message\n",
    "name=input('Please enter a name in the last name, first name format: ')\n",
    "firstn=name[name.find(',')+2:]\n",
    "lastn=name[0:name.find(',')]\n",
    "length=len(firstn)\n",
    "print('Welcome,',firstn,lastn+'! Your first name is',length,'letters long.')"
   ]
  }
 ],
 "metadata": {
  "kernelspec": {
   "display_name": "Python 3",
   "language": "python",
   "name": "python3"
  },
  "language_info": {
   "codemirror_mode": {
    "name": "ipython",
    "version": 3
   },
   "file_extension": ".py",
   "mimetype": "text/x-python",
   "name": "python",
   "nbconvert_exporter": "python",
   "pygments_lexer": "ipython3",
   "version": "3.4.3"
  }
 },
 "nbformat": 4,
 "nbformat_minor": 0
}
