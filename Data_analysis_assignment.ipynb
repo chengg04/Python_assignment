{
 "cells": [
  {
   "cell_type": "code",
   "execution_count": 1,
   "metadata": {
    "collapsed": false
   },
   "outputs": [
    {
     "name": "stdout",
     "output_type": "stream",
     "text": [
      "366715\n"
     ]
    }
   ],
   "source": [
    "import json\n",
    "import datetime as dt\n",
    "import os\n",
    "os.chdir('d:\\programming_files')\n",
    "datafile='yelp_academic_dataset_user.json'\n",
    "user_data=list()\n",
    "compliments_data=list()\n",
    "elite_data=list()\n",
    "friends_data=list()\n",
    "votes_data=list()\n",
    "with open(datafile,'r') as f:\n",
    "    count=0\n",
    "    for line in f:\n",
    "        data=json.loads(line)\n",
    "        user_id=data.get('user_id')\n",
    "        name=data.get('name')\n",
    "        review_count=data.get('review_count')\n",
    "        average_stars=data.get('average_stars') \n",
    "        yelping_since=dt.datetime.strptime(data.get('yelping_since'),\"%Y-%m\").date()\n",
    "        fans=data.get('fans')\n",
    "        user_votes=data.get('votes')\n",
    "        user_friends=data.get('friends')\n",
    "        compliments=data.get('compliments')\n",
    "        elite_years=data.get('elite')\n",
    "        user_data.append([user_id,name,review_count,average_stars,yelping_since,fans])\n",
    "        compliments_data.append([user_id,compliments])\n",
    "        elite_data.append([user_id,elite_years])\n",
    "        for friend in user_friends:\n",
    "            friends_data.append((user_id,friend))\n",
    "        #friends_data.append([user_id,user_friends])\n",
    "        votes_data.append([user_id,user_votes])\n",
    "        count+=1\n",
    "print(count)"
   ]
  },
  {
   "cell_type": "code",
   "execution_count": 2,
   "metadata": {
    "collapsed": false
   },
   "outputs": [
    {
     "data": {
      "text/plain": [
       "[['18kPq7GPye-YQ3LyKyAZPw', {'cool': 245, 'funny': 166, 'useful': 278}],\n",
       " ['rpOyqD_893cqmDAtJLbdog', {'cool': 9837, 'funny': 6849, 'useful': 12642}],\n",
       " ['4U9kSBLuBDU391x6bxU-YA', {'cool': 727, 'funny': 907, 'useful': 1445}],\n",
       " ['fHtTaujcyKvXglE33Z5yIw', {'cool': 5, 'funny': 1, 'useful': 11}],\n",
       " ['SIBCL7HBkrP4llolm4SC2A', {'cool': 11, 'funny': 10, 'useful': 34}],\n",
       " ['8J4IIYcqBlFch8T90N923A', {'cool': 16174, 'funny': 12453, 'useful': 16940}],\n",
       " ['wy6l_zUo7SN0qrvNRWgySw', {'cool': 43, 'funny': 35, 'useful': 86}],\n",
       " ['ysYmC-ufbdmVEX9yAv-VEQ', {'cool': 25, 'funny': 39, 'useful': 38}],\n",
       " ['WPOKvkacSKHx_bIG1alFiA', {'cool': 30, 'funny': 25, 'useful': 118}],\n",
       " ['UTS9XcT14H2ZscRIf0MYHQ', {'cool': 39, 'funny': 40, 'useful': 207}]]"
      ]
     },
     "execution_count": 2,
     "metadata": {},
     "output_type": "execute_result"
    }
   ],
   "source": [
    "votes_data[:10]"
   ]
  },
  {
   "cell_type": "code",
   "execution_count": 3,
   "metadata": {
    "collapsed": false
   },
   "outputs": [],
   "source": [
    "#List of cool users\n",
    "cool_users=list()\n",
    "for v in votes_data:\n",
    "    if v[1]['cool'] and  v[1]['cool'] > 10000:\n",
    "        cool_users.append(v[0])"
   ]
  },
  {
   "cell_type": "code",
   "execution_count": 4,
   "metadata": {
    "collapsed": false
   },
   "outputs": [],
   "source": [
    "#List of funny users\n",
    "funny_users=list()\n",
    "for v in votes_data:\n",
    "    if v[1]['funny'] > 9000:\n",
    "        funny_users.append(v[0])\n"
   ]
  },
  {
   "cell_type": "code",
   "execution_count": 5,
   "metadata": {
    "collapsed": true
   },
   "outputs": [],
   "source": [
    "#List of useful users\n",
    "useful_users=list()\n",
    "for v in votes_data:\n",
    "    if v[1]['useful'] > 12000:\n",
    "        useful_users.append(v[0])"
   ]
  },
  {
   "cell_type": "code",
   "execution_count": 6,
   "metadata": {
    "collapsed": false,
    "scrolled": true
   },
   "outputs": [
    {
     "name": "stdout",
     "output_type": "stream",
     "text": [
      "83\n",
      "80\n",
      "87\n"
     ]
    }
   ],
   "source": [
    "print(len(cool_users))\n",
    "print(len(funny_users))\n",
    "print(len(useful_users))\n"
   ]
  },
  {
   "cell_type": "code",
   "execution_count": 28,
   "metadata": {
    "collapsed": false
   },
   "outputs": [
    {
     "data": {
      "text/plain": [
       "64"
      ]
     },
     "execution_count": 28,
     "metadata": {},
     "output_type": "execute_result"
    }
   ],
   "source": [
    "popular_users=[x for x in funny_users if x in cool_users and x in useful_users]\n",
    "len(popular_users)"
   ]
  },
  {
   "cell_type": "code",
   "execution_count": 8,
   "metadata": {
    "collapsed": false
   },
   "outputs": [
    {
     "data": {
      "text/plain": [
       "1370"
      ]
     },
     "execution_count": 8,
     "metadata": {},
     "output_type": "execute_result"
    }
   ],
   "source": [
    "popular_users_friends = [(x[0],x[1]) for x in friends_data if x[0] in popular_users and x[1] in popular_users]\n",
    "len(popular_users_friends)"
   ]
  },
  {
   "cell_type": "code",
   "execution_count": 9,
   "metadata": {
    "collapsed": false
   },
   "outputs": [
    {
     "data": {
      "text/plain": [
       "82"
      ]
     },
     "execution_count": 9,
     "metadata": {},
     "output_type": "execute_result"
    }
   ],
   "source": [
    "#List of users with high number of reviews\n",
    "high_review_users=[x[0] for x in user_data if x[2]>1750]\n",
    "len(high_review_users)"
   ]
  },
  {
   "cell_type": "code",
   "execution_count": 10,
   "metadata": {
    "collapsed": false
   },
   "outputs": [],
   "source": [
    "high_review_friends=[(x[0],x[1]) for x in friends_data if x[0] in high_review_users and x[1] in high_review_users]"
   ]
  },
  {
   "cell_type": "code",
   "execution_count": 11,
   "metadata": {
    "collapsed": false
   },
   "outputs": [
    {
     "data": {
      "text/plain": [
       "1108"
      ]
     },
     "execution_count": 11,
     "metadata": {},
     "output_type": "execute_result"
    }
   ],
   "source": [
    "len(high_review_friends)"
   ]
  },
  {
   "cell_type": "code",
   "execution_count": 12,
   "metadata": {
    "collapsed": true
   },
   "outputs": [],
   "source": [
    "import networkx as nx\n"
   ]
  },
  {
   "cell_type": "code",
   "execution_count": 51,
   "metadata": {
    "collapsed": false
   },
   "outputs": [
    {
     "name": "stdout",
     "output_type": "stream",
     "text": [
      "63 685\n"
     ]
    }
   ],
   "source": [
    "popular_friends_graph=nx.Graph()\n",
    "popular_friends_graph.add_edges_from(popular_users_friends)\n",
    "print(popular_friends_graph.number_of_nodes(),popular_friends_graph.number_of_edges())"
   ]
  },
  {
   "cell_type": "code",
   "execution_count": 61,
   "metadata": {
    "collapsed": false
   },
   "outputs": [],
   "source": [
    "%matplotlib inline\n",
    "import numpy as np\n",
    "import matplotlib.pyplot as py\n"
   ]
  },
  {
   "cell_type": "code",
   "execution_count": 64,
   "metadata": {
    "collapsed": false
   },
   "outputs": [
    {
     "data": {
      "image/png": "[encoded data removed]",
      "text/plain": [
       "<matplotlib.figure.Figure at 0x2fccc650>"
      ]
     },
     "metadata": {},
     "output_type": "display_data"
    }
   ],
   "source": [
    "pos1=nx.spring_layout(popular_friends_graph)\n",
    "\n",
    "nx.draw_networkx_nodes(popular_friends_graph,pos1,\n",
    "                      node_color='r',\n",
    "                      node_size=100,\n",
    "                      alpha=0.9)\n",
    "nx.draw_networkx_edges(popular_friends_graph,pos1,\n",
    "                      edgelist=popular_users_friends,\n",
    "                      width=1\n",
    "                       ,alpha=0.5,edge_color='black')\n",
    "py.show()"
   ]
  },
  {
   "cell_type": "code",
   "execution_count": 41,
   "metadata": {
    "collapsed": false
   },
   "outputs": [
    {
     "name": "stdout",
     "output_type": "stream",
     "text": [
      "81 554\n"
     ]
    }
   ],
   "source": [
    "highreview_friends_graph=nx.Graph()\n",
    "highreview_friends_graph.add_edges_from(high_review_friends)\n",
    "print(highreview_friends_graph.number_of_nodes(),highreview_friends_graph.number_of_edges())"
   ]
  },
  {
   "cell_type": "code",
   "execution_count": 66,
   "metadata": {
    "collapsed": false
   },
   "outputs": [
    {
     "data": {
      "text/plain": [
       "<matplotlib.collections.LineCollection at 0x30d81210>"
      ]
     },
     "execution_count": 66,
     "metadata": {},
     "output_type": "execute_result"
    },
    {
     "data": {
      "image/png": "[encoded data removed]",
      "text/plain": [
       "<matplotlib.figure.Figure at 0x2fd4a3b0>"
      ]
     },
     "metadata": {},
     "output_type": "display_data"
    }
   ],
   "source": [
    "pos2=nx.spring_layout(highreview_friends_graph)\n",
    "nx.draw_networkx_nodes(highreview_friends_graph,pos2,\n",
    "                      node_color='r',\n",
    "                      node_size=100,\n",
    "                      alpha=0.9)\n",
    "nx.draw_networkx_edges(highreview_friends_graph,pos2,\n",
    "                       edgelist=high_review_friends,\n",
    "                      width=1,\n",
    "                      alpha=0.5,edge_color='black')"
   ]
  },
  {
   "cell_type": "code",
   "execution_count": 105,
   "metadata": {
    "collapsed": false
   },
   "outputs": [
    {
     "data": {
      "text/plain": [
       "0.984375"
      ]
     },
     "execution_count": 105,
     "metadata": {},
     "output_type": "execute_result"
    }
   ],
   "source": [
    "connected_popular=list()\n",
    "for comp in nx.connected_components(popular_friends_graph):\n",
    "    connected_popular.append(comp)\n",
    "\n",
    "len(connected_popular[0])/len(popular_users)\n",
    "#connected_popular"
   ]
  },
  {
   "cell_type": "code",
   "execution_count": 77,
   "metadata": {
    "collapsed": false
   },
   "outputs": [
    {
     "data": {
      "text/plain": [
       "0.9878048780487805"
      ]
     },
     "execution_count": 77,
     "metadata": {},
     "output_type": "execute_result"
    }
   ],
   "source": [
    "connected_review=list()\n",
    "for comp in nx.connected_components(highreview_friends_graph):\n",
    "    connected_review.append(comp)\n",
    "len(connected_review[0])/len(high_review_users)"
   ]
  },
  {
   "cell_type": "code",
   "execution_count": 79,
   "metadata": {
    "collapsed": false
   },
   "outputs": [
    {
     "data": {
      "text/plain": [
       "40"
      ]
     },
     "execution_count": 79,
     "metadata": {},
     "output_type": "execute_result"
    }
   ],
   "source": [
    "max(nx.degree(popular_friends_graph).values())"
   ]
  },
  {
   "cell_type": "code",
   "execution_count": 80,
   "metadata": {
    "collapsed": false
   },
   "outputs": [
    {
     "data": {
      "text/plain": [
       "50"
      ]
     },
     "execution_count": 80,
     "metadata": {},
     "output_type": "execute_result"
    }
   ],
   "source": [
    "max(nx.degree(highreview_friends_graph).values())"
   ]
  },
  {
   "cell_type": "code",
   "execution_count": 81,
   "metadata": {
    "collapsed": false
   },
   "outputs": [
    {
     "data": {
      "text/plain": [
       "0.5932994030317361"
      ]
     },
     "execution_count": 81,
     "metadata": {},
     "output_type": "execute_result"
    }
   ],
   "source": [
    "nx.average_clustering(popular_friends_graph)"
   ]
  },
  {
   "cell_type": "code",
   "execution_count": 82,
   "metadata": {
    "collapsed": false
   },
   "outputs": [
    {
     "data": {
      "text/plain": [
       "0.5061741102385232"
      ]
     },
     "execution_count": 82,
     "metadata": {},
     "output_type": "execute_result"
    }
   ],
   "source": [
    "nx.average_clustering(highreview_friends_graph)"
   ]
  },
  {
   "cell_type": "code",
   "execution_count": 108,
   "metadata": {
    "collapsed": false
   },
   "outputs": [
    {
     "name": "stdout",
     "output_type": "stream",
     "text": [
      "0.7380952380952381 0.3780487804878049\n"
     ]
    }
   ],
   "source": [
    "from networkx.algorithms.centrality import closeness_centrality, communicability\n",
    "cc1=list(closeness_centrality(popular_friends_graph).values())\n",
    "print(max(cc1),min(cc1))"
   ]
  },
  {
   "cell_type": "code",
   "execution_count": 109,
   "metadata": {
    "collapsed": false
   },
   "outputs": [
    {
     "name": "stdout",
     "output_type": "stream",
     "text": [
      "0.7142857142857143 0.272108843537415\n"
     ]
    }
   ],
   "source": [
    "cc2=list(closeness_centrality(highreview_friends_graph).values())\n",
    "print(max(cc2),min(cc2))"
   ]
  },
  {
   "cell_type": "code",
   "execution_count": 110,
   "metadata": {
    "collapsed": false
   },
   "outputs": [
    {
     "name": "stdout",
     "output_type": "stream",
     "text": [
      "0.078125\n",
      "5\n"
     ]
    }
   ],
   "source": [
    "from networkx.algorithms.distance_measures import center\n",
    "print(len(center(popular_friends_graph))/len(popular_users))\n",
    "print(len(center(popular_friends_graph)))"
   ]
  },
  {
   "cell_type": "code",
   "execution_count": 101,
   "metadata": {
    "collapsed": false
   },
   "outputs": [
    {
     "data": {
      "text/plain": [
       "0.2804878048780488"
      ]
     },
     "execution_count": 101,
     "metadata": {},
     "output_type": "execute_result"
    }
   ],
   "source": [
    "len(center(highreview_friends_graph))/len(high_review_users)"
   ]
  }
 ],
 "metadata": {
  "kernelspec": {
   "display_name": "Python 3",
   "language": "python",
   "name": "python3"
  },
  "language_info": {
   "codemirror_mode": {
    "name": "ipython",
    "version": 3
   },
   "file_extension": ".py",
   "mimetype": "text/x-python",
   "name": "python",
   "nbconvert_exporter": "python",
   "pygments_lexer": "ipython3",
   "version": "3.4.3"
  }
 },
 "nbformat": 4,
 "nbformat_minor": 0
}
