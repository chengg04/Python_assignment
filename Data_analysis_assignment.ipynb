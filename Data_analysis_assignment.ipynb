{
 "cells": [
  {
   "cell_type": "code",
   "execution_count": 1,
   "metadata": {
    "collapsed": false
   },
   "outputs": [
    {
     "ename": "FileNotFoundError",
     "evalue": "[Errno 2] No such file or directory: 'yelp_academic_dataset_user.json'",
     "output_type": "error",
     "traceback": [
      "\u001b[0;31m---------------------------------------------------------------------------\u001b[0m",
      "\u001b[0;31mFileNotFoundError\u001b[0m                         Traceback (most recent call last)",
      "\u001b[0;32m<ipython-input-1-b075a65f7caa>\u001b[0m in \u001b[0;36m<module>\u001b[0;34m()\u001b[0m\n\u001b[1;32m      7\u001b[0m \u001b[0mfriends_data\u001b[0m\u001b[0;34m=\u001b[0m\u001b[0mlist\u001b[0m\u001b[0;34m(\u001b[0m\u001b[0;34m)\u001b[0m\u001b[0;34m\u001b[0m\u001b[0m\n\u001b[1;32m      8\u001b[0m \u001b[0mvotes_data\u001b[0m\u001b[0;34m=\u001b[0m\u001b[0mlist\u001b[0m\u001b[0;34m(\u001b[0m\u001b[0;34m)\u001b[0m\u001b[0;34m\u001b[0m\u001b[0m\n\u001b[0;32m----> 9\u001b[0;31m \u001b[0;32mwith\u001b[0m \u001b[0mopen\u001b[0m\u001b[0;34m(\u001b[0m\u001b[0mdatafile\u001b[0m\u001b[0;34m,\u001b[0m\u001b[0;34m'r'\u001b[0m\u001b[0;34m)\u001b[0m \u001b[0;32mas\u001b[0m \u001b[0mf\u001b[0m\u001b[0;34m:\u001b[0m\u001b[0;34m\u001b[0m\u001b[0m\n\u001b[0m\u001b[1;32m     10\u001b[0m     \u001b[0mcount\u001b[0m\u001b[0;34m=\u001b[0m\u001b[0;36m0\u001b[0m\u001b[0;34m\u001b[0m\u001b[0m\n\u001b[1;32m     11\u001b[0m     \u001b[0;32mfor\u001b[0m \u001b[0mline\u001b[0m \u001b[0;32min\u001b[0m \u001b[0mf\u001b[0m\u001b[0;34m:\u001b[0m\u001b[0;34m\u001b[0m\u001b[0m\n",
      "\u001b[0;31mFileNotFoundError\u001b[0m: [Errno 2] No such file or directory: 'yelp_academic_dataset_user.json'"
     ]
    }
   ],
   "source": [
    "import json\n",
    "import datetime as dt\n",
    "datafile='yelp_academic_dataset_user.json'\n",
    "user_data=list()\n",
    "compliments_data=list()\n",
    "elite_data=list()\n",
    "friends_data=list()\n",
    "votes_data=list()\n",
    "with open(datafile,'r') as f:\n",
    "    count=0\n",
    "    for line in f:\n",
    "        data=json.loads(line)\n",
    "        user_id=data.get('user_id')\n",
    "        name=data.get('name')\n",
    "        review_count=data.get('review_count')\n",
    "        average_stars=data.get('average_stars') \n",
    "        yelping_since=dt.datetime.strptime(data.get('yelping_since'),\"%Y-%m\").date()\n",
    "        fans=data.get('fans')\n",
    "        user_votes=data.get('votes')\n",
    "        user_friends=data.get('friends')\n",
    "        compliments=data.get('compliments')\n",
    "        elite_years=data.get('elite')\n",
    "        user_data.append([user_id,name,review_count,average_stars,yelping_since,fans])\n",
    "        compliments_data.append([user_id,compliments])\n",
    "        elite_data.append([user_id,elite_years])\n",
    "        for friend in user_friends:\n",
    "            friends_data.append((user_id,friend))\n",
    "        #friends_data.append([user_id,user_friends])\n",
    "        votes_data.append([user_id,user_votes])\n",
    "        count+=1\n",
    "print(count)"
   ]
  },
  {
   "cell_type": "code",
   "execution_count": 5,
   "metadata": {
    "collapsed": false
   },
   "outputs": [
    {
     "data": {
      "text/plain": [
       "[['18kPq7GPye-YQ3LyKyAZPw', {'cool': 245, 'funny': 166, 'useful': 278}],\n",
       " ['rpOyqD_893cqmDAtJLbdog', {'cool': 9837, 'funny': 6849, 'useful': 12642}],\n",
       " ['4U9kSBLuBDU391x6bxU-YA', {'cool': 727, 'funny': 907, 'useful': 1445}],\n",
       " ['fHtTaujcyKvXglE33Z5yIw', {'cool': 5, 'funny': 1, 'useful': 11}],\n",
       " ['SIBCL7HBkrP4llolm4SC2A', {'cool': 11, 'funny': 10, 'useful': 34}],\n",
       " ['8J4IIYcqBlFch8T90N923A', {'cool': 16174, 'funny': 12453, 'useful': 16940}],\n",
       " ['wy6l_zUo7SN0qrvNRWgySw', {'cool': 43, 'funny': 35, 'useful': 86}],\n",
       " ['ysYmC-ufbdmVEX9yAv-VEQ', {'cool': 25, 'funny': 39, 'useful': 38}],\n",
       " ['WPOKvkacSKHx_bIG1alFiA', {'cool': 30, 'funny': 25, 'useful': 118}],\n",
       " ['UTS9XcT14H2ZscRIf0MYHQ', {'cool': 39, 'funny': 40, 'useful': 207}]]"
      ]
     },
     "execution_count": 5,
     "metadata": {},
     "output_type": "execute_result"
    }
   ],
   "source": [
    "votes_data[:10]"
   ]
  },
  {
   "cell_type": "code",
   "execution_count": 20,
   "metadata": {
    "collapsed": false
   },
   "outputs": [],
   "source": [
    "#List of cool users\n",
    "cool_users=list()\n",
    "for v in votes_data:\n",
    "    if v[1]['cool'] and  v[1]['cool'] > 10000:\n",
    "        cool_users.append(v[0])"
   ]
  },
  {
   "cell_type": "code",
   "execution_count": 26,
   "metadata": {
    "collapsed": false
   },
   "outputs": [],
   "source": [
    "#List of funny users\n",
    "funny_users=list()\n",
    "for v in votes_data:\n",
    "    if v[1]['funny'] > 9000:\n",
    "        funny_users.append(v[0])\n"
   ]
  },
  {
   "cell_type": "code",
   "execution_count": 27,
   "metadata": {
    "collapsed": true
   },
   "outputs": [],
   "source": [
    "#List of useful users\n",
    "useful_users=list()\n",
    "for v in votes_data:\n",
    "    if v[1]['useful'] > 12000:\n",
    "        useful_users.append(v[0])"
   ]
  },
  {
   "cell_type": "code",
   "execution_count": 28,
   "metadata": {
    "collapsed": false
   },
   "outputs": [
    {
     "name": "stdout",
     "output_type": "stream",
     "text": [
      "83\n",
      "80\n",
      "87\n"
     ]
    }
   ],
   "source": [
    "print(len(cool_users))\n",
    "print(len(funny_users))\n",
    "print(len(useful_users))\n"
   ]
  },
  {
   "cell_type": "code",
   "execution_count": 41,
   "metadata": {
    "collapsed": true
   },
   "outputs": [],
   "source": [
    "popular_users=[x for x in funny_users if x in cool_users and x in useful_users]"
   ]
  },
  {
   "cell_type": "code",
   "execution_count": 48,
   "metadata": {
    "collapsed": false
   },
   "outputs": [
    {
     "data": {
      "text/plain": [
       "1370"
      ]
     },
     "execution_count": 48,
     "metadata": {},
     "output_type": "execute_result"
    }
   ],
   "source": [
    "popular_users_friends = [(x[0],x[1]) for x in friends_data if x[0] in popular_users and x[1] in popular_users]\n",
    "len(popular_users_friends)"
   ]
  },
  {
   "cell_type": "code",
   "execution_count": 42,
   "metadata": {
    "collapsed": false
   },
   "outputs": [
    {
     "data": {
      "text/plain": [
       "82"
      ]
     },
     "execution_count": 42,
     "metadata": {},
     "output_type": "execute_result"
    }
   ],
   "source": [
    "#List of users with high number of reviews\n",
    "high_review_users=[x[0] for x in user_data if x[2]>1750]\n",
    "len(high_review_users)"
   ]
  },
  {
   "cell_type": "code",
   "execution_count": 44,
   "metadata": {
    "collapsed": false
   },
   "outputs": [],
   "source": [
    "high_review_friends=[(x[0],x[1]) for x in friends_data if x[0] in high_review_users and x[1] in high_review_users]"
   ]
  },
  {
   "cell_type": "code",
   "execution_count": 46,
   "metadata": {
    "collapsed": false
   },
   "outputs": [
    {
     "data": {
      "text/plain": [
       "1108"
      ]
     },
     "execution_count": 46,
     "metadata": {},
     "output_type": "execute_result"
    }
   ],
   "source": [
    "len(high_review_friends)"
   ]
  },
  {
   "cell_type": "code",
   "execution_count": null,
   "metadata": {
    "collapsed": true
   },
   "outputs": [],
   "source": []
  }
 ],
 "metadata": {
  "kernelspec": {
   "display_name": "Python 3",
   "language": "python",
   "name": "python3"
  },
  "language_info": {
   "codemirror_mode": {
    "name": "ipython",
    "version": 3
   },
   "file_extension": ".py",
   "mimetype": "text/x-python",
   "name": "python",
   "nbconvert_exporter": "python",
   "pygments_lexer": "ipython3",
   "version": "3.4.3"
  }
 },
 "nbformat": 4,
 "nbformat_minor": 0
}
